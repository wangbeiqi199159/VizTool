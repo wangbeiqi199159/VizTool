{
 "cells": [
  {
   "cell_type": "code",
   "execution_count": 30,
   "metadata": {
    "collapsed": false
   },
   "outputs": [],
   "source": [
    "import pandas as pd\n",
    "data1 = pd.read_csv(\"listings.csv\")\n",
    "data2 = pd.read_csv(\"listings2.csv\")\n",
    "neighbourhood = data1['neighbourhood'].tolist()\n",
    "neighbourhood2 = data2['neighbourhood'].tolist()\n",
    "price = data1['price'].tolist()\n",
    "rating = data2['review_scores_rating'].tolist()\n",
    "\n",
    "# neighourhood name list\n",
    "name_list = []\n",
    "n = len(neighbourhood)\n",
    "for i in range(0,n):\n",
    "    if neighbourhood[i] not in name_list:\n",
    "        name_list.append(neighbourhood[i])\n",
    "\n",
    "# avg price, avg rating by neighbourhood\n",
    "price_list = data1.groupby(data1.neighbourhood).mean()['price']\n",
    "rating_list = data2.groupby(data1.neighbourhood).mean()['review_scores_rating']\n",
    "\n",
    "avg_price = []\n",
    "avg_rating = []\n",
    "\n",
    "d = len(name_list)\n",
    "for i in range(0,d):\n",
    "    price_target = price_list[name_list[i]]\n",
    "    rating_target = rating_list[name_list[i]]\n",
    "    avg_price.append(price_target)\n",
    "    avg_rating.append(rating_target)\n",
    "   "
   ]
  },
  {
   "cell_type": "code",
   "execution_count": 32,
   "metadata": {
    "collapsed": false
   },
   "outputs": [
    {
     "data": {
      "text/plain": [
       "20"
      ]
     },
     "execution_count": 32,
     "metadata": {},
     "output_type": "execute_result"
    }
   ],
   "source": [
    "max(price)\n",
    "min(price)"
   ]
  },
  {
   "cell_type": "code",
   "execution_count": 3,
   "metadata": {
    "collapsed": false
   },
   "outputs": [],
   "source": [
    "ranked_price_list = price_list.sort_values(ascending = False)\n",
    "ranked_price_index = ranked_price_list.index.tolist()\n",
    "ranked_price_value = ranked_price_list.tolist()\n",
    "\n",
    "# two list form\n",
    "file = open(\"ranked_price.js\", \"w\")\n",
    "file.write( \"var ranked_price_index = \" + str(ranked_price_index) + \"\\n\"\n",
    "          + \"var ranked_price_value = \" + str(ranked_price_value));\n",
    "\n",
    "# Close opend file\n",
    "file.close()"
   ]
  },
  {
   "cell_type": "code",
   "execution_count": 4,
   "metadata": {
    "collapsed": true
   },
   "outputs": [],
   "source": [
    "ranked_rating_list = rating_list.sort_values(ascending = False)\n",
    "ranked_rating_index = ranked_rating_list.index.tolist()\n",
    "ranked_rating_value = ranked_rating_list.tolist()\n",
    "\n",
    "# two list form\n",
    "file = open(\"ranked_rating.js\", \"w\")\n",
    "file.write( \"var ranked_rating_index = \" + str(ranked_rating_index) + \"\\n\"\n",
    "          + \"var ranked_rating_value = \" + str(ranked_rating_value));\n",
    "\n",
    "# Close opend file\n",
    "file.close()"
   ]
  },
  {
   "cell_type": "code",
   "execution_count": 15,
   "metadata": {
    "collapsed": false
   },
   "outputs": [],
   "source": [
    "# dict form\n",
    "df_price = pd.DataFrame({'ranked_price_index' : ranked_price_index,'ranked_price' : ranked_price_value})\n",
    "df_price = df_price.to_json(orient='records')\n",
    "file = open(\"ranked_price_data.js\", \"w\")\n",
    "file.write( \"var ranked_price_data = \" + df_price);\n",
    "\n",
    "# Close opend file\n",
    "file.close()"
   ]
  },
  {
   "cell_type": "code",
   "execution_count": 16,
   "metadata": {
    "collapsed": false
   },
   "outputs": [],
   "source": [
    "# dict form\n",
    "df_rating = pd.DataFrame({'ranked_rating_index' : ranked_rating_index,'ranked_rating' : ranked_rating_value})\n",
    "df_rating = df_rating.to_json(orient='records')\n",
    "file = open(\"ranked_rating_data.js\", \"w\")\n",
    "file.write( \"var ranked_rating_data = \" + df_rating);\n",
    "\n",
    "# Close opend file\n",
    "file.close()"
   ]
  },
  {
   "cell_type": "code",
   "execution_count": 26,
   "metadata": {
    "collapsed": false
   },
   "outputs": [
    {
     "data": {
      "text/plain": [
       "['Arbor Heights',\n",
       " 'Riverview',\n",
       " 'Southeast Magnolia',\n",
       " 'Madrona',\n",
       " 'Harrison/Denny-Blaine',\n",
       " 'Genesee',\n",
       " 'North Beach/Blue Ridge',\n",
       " 'Laurelhurst',\n",
       " 'Whittier Heights',\n",
       " 'North Delridge',\n",
       " 'Westlake',\n",
       " 'North College Park',\n",
       " 'Broadview',\n",
       " 'Windermere',\n",
       " 'Leschi',\n",
       " 'Yesler Terrace',\n",
       " 'Meadowbrook',\n",
       " 'Sunset Hill',\n",
       " 'Fauntleroy',\n",
       " 'Minor',\n",
       " 'East Queen Anne',\n",
       " 'Alki',\n",
       " 'Fremont',\n",
       " 'West Queen Anne',\n",
       " 'South Delridge',\n",
       " 'Gatewood',\n",
       " 'Fairmount Park',\n",
       " 'Montlake',\n",
       " 'Loyal Heights',\n",
       " 'Seaview',\n",
       " 'North Admiral',\n",
       " 'Adams',\n",
       " 'Atlantic',\n",
       " 'Phinney Ridge',\n",
       " 'Maple Leaf',\n",
       " 'Brighton',\n",
       " 'Bryant',\n",
       " 'Lower Queen Anne',\n",
       " 'West Woodland',\n",
       " 'Columbia City',\n",
       " 'Mann',\n",
       " 'Victory Heights',\n",
       " 'Green Lake',\n",
       " 'Dunlap',\n",
       " 'Rainier Beach',\n",
       " 'Crown Hill',\n",
       " 'Stevens',\n",
       " 'Seward Park',\n",
       " 'North Queen Anne',\n",
       " 'Bitter Lake',\n",
       " 'High Point',\n",
       " 'Portage Bay',\n",
       " 'Central Business District',\n",
       " 'Matthews Beach',\n",
       " 'Highland Park',\n",
       " 'Roosevelt',\n",
       " 'International District',\n",
       " 'Madison Park',\n",
       " 'Wedgwood',\n",
       " 'First Hill',\n",
       " 'Mid-Beacon Hill',\n",
       " 'Wallingford',\n",
       " 'North Beacon Hill',\n",
       " 'Georgetown',\n",
       " 'Broadway',\n",
       " 'Mount Baker',\n",
       " 'Interbay',\n",
       " 'Cedar Park',\n",
       " 'Belltown',\n",
       " 'Greenwood',\n",
       " 'Roxhill',\n",
       " 'Briarcliff',\n",
       " 'Industrial District',\n",
       " 'Pike-Market',\n",
       " 'Pioneer Square',\n",
       " 'Olympic Hills',\n",
       " 'Haller Lake',\n",
       " 'Eastlake',\n",
       " 'Lawton Park',\n",
       " 'Holly Park',\n",
       " 'Ravenna',\n",
       " 'South Lake Union',\n",
       " 'View Ridge',\n",
       " 'South Beacon Hill',\n",
       " 'Pinehurst',\n",
       " 'University District',\n",
       " 'South Park']"
      ]
     },
     "execution_count": 26,
     "metadata": {},
     "output_type": "execute_result"
    }
   ],
   "source": []
  },
  {
   "cell_type": "code",
   "execution_count": 16,
   "metadata": {
    "collapsed": false
   },
   "outputs": [],
   "source": [
    "import json\n",
    "\n",
    "with open('neighbourhoods.geojson') as f:\n",
    "    data = json.load(f)\n",
    "for i in range(0,d):\n",
    "    a_dict = {'price':avg_price[i],'rating' : avg_rating[i]}\n",
    "    data[\"features\"][i][\"properties\"].update(a_dict)\n",
    "\n",
    "with open('neighbourhoods.json', 'w') as f:\n",
    "    json.dump(data, f)\n",
    "    \n",
    "file = open('neighbourhoods.json')\n",
    "data = json.load(file)\n",
    "\n",
    "with open('neighbourhoods.js', 'w') as f:\n",
    "    f.write( \"var neighbourhoods = \" + str(data));\n",
    "    f.close()"
   ]
  },
  {
   "cell_type": "code",
   "execution_count": 28,
   "metadata": {
    "collapsed": false
   },
   "outputs": [],
   "source": [
    "import json\n",
    "\n",
    "with open('neighbourhoods.geojson') as f:\n",
    "    data = json.load(f)\n",
    "n = len(data[\"features\"])\n",
    "for i in range(0,n):\n",
    "    name = data[\"features\"][i][\"properties\"][\"neighbourhood\"]\n",
    "    if name in ranked_price_index:\n",
    "        idx = ranked_price_index.index(name)\n",
    "        a_dict = {'price':ranked_price_value[idx]}\n",
    "        data[\"features\"][i][\"properties\"].update(a_dict)\n",
    "    else:\n",
    "        a_dict = {'price': 'No data'}\n",
    "        data[\"features\"][i][\"properties\"].update(a_dict)\n",
    "    if name in ranked_rating_index:\n",
    "        idx = ranked_rating_index.index(name)\n",
    "        a_dict = {'rating':ranked_rating_value[idx]}\n",
    "        data[\"features\"][i][\"properties\"].update(a_dict)\n",
    "    else:\n",
    "        a_dict = {'rating': 'No data'}\n",
    "        data[\"features\"][i][\"properties\"].update(a_dict)\n",
    "with open('neighbourhoods.json', 'w') as f:\n",
    "    json.dump(data, f)\n",
    "    \n",
    "file = open('neighbourhoods.json')\n",
    "data = json.load(file)\n",
    "\n",
    "with open('neighbourhoods.js', 'w') as f:\n",
    "    f.write( \"var neighbourhoods = \" + str(data));\n",
    "    f.close()"
   ]
  },
  {
   "cell_type": "code",
   "execution_count": 14,
   "metadata": {
    "collapsed": false
   },
   "outputs": [
    {
     "data": {
      "text/plain": [
       "'Adams'"
      ]
     },
     "execution_count": 14,
     "metadata": {},
     "output_type": "execute_result"
    }
   ],
   "source": [
    "data[\"features\"][1][\"properties\"][\"neighbourhood\"]"
   ]
  },
  {
   "cell_type": "code",
   "execution_count": 29,
   "metadata": {
    "collapsed": true
   },
   "outputs": [],
   "source": [
    "listing = data1.to_json(orient='records')\n",
    "file = open(\"listing.js\", \"w\")\n",
    "file.write( \"var listing = \" + listing);"
   ]
  },
  {
   "cell_type": "code",
   "execution_count": null,
   "metadata": {
    "collapsed": true
   },
   "outputs": [],
   "source": []
  }
 ],
 "metadata": {
  "kernelspec": {
   "display_name": "Python 3",
   "language": "python",
   "name": "python3"
  },
  "language_info": {
   "codemirror_mode": {
    "name": "ipython",
    "version": 3
   },
   "file_extension": ".py",
   "mimetype": "text/x-python",
   "name": "python",
   "nbconvert_exporter": "python",
   "pygments_lexer": "ipython3",
   "version": "3.6.0"
  }
 },
 "nbformat": 4,
 "nbformat_minor": 2
}
