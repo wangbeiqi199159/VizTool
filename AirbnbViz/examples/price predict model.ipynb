{
 "cells": [
  {
   "cell_type": "code",
   "execution_count": 40,
   "metadata": {
    "collapsed": false
   },
   "outputs": [
    {
     "data": {
      "text/plain": [
       "[0.0,\n",
       " 0.0,\n",
       " 0.039441995795907736,\n",
       " 0.0,\n",
       " 0.0,\n",
       " 0.0,\n",
       " 7.9254844857965985,\n",
       " 0.0,\n",
       " 0.0,\n",
       " 0.0,\n",
       " 0.0,\n",
       " 0.0,\n",
       " 3.4135416614444263,\n",
       " -0.85739595074382069,\n",
       " 0.0,\n",
       " 0.0,\n",
       " 0.0]"
      ]
     },
     "execution_count": 40,
     "metadata": {},
     "output_type": "execute_result"
    }
   ],
   "source": [
    "import pandas as pd\n",
    "import numpy as np\n",
    "\n",
    "df = pd.read_csv(\"df_lasso.csv\", header = None)\n",
    "df_group = df[3:20]\n",
    "group_list = df_group.ix[:,0]\n",
    "group_value = df_group.ix[:,1]\n",
    "group_list = [f[29:] for f in group_list]\n",
    "group_value = [f for f in group_value]\n"
   ]
  },
  {
   "cell_type": "code",
   "execution_count": 55,
   "metadata": {
    "collapsed": false
   },
   "outputs": [],
   "source": [
    "df_property = df[20:36]\n",
    "property_list = df_property.ix[:,0]\n",
    "property_value = df_property.ix[:,1]\n",
    "property_list = [f[14:] for f in property_list]\n",
    "property_value = [f for f in property_value]"
   ]
  },
  {
   "cell_type": "code",
   "execution_count": 59,
   "metadata": {
    "collapsed": false
   },
   "outputs": [
    {
     "data": {
      "text/plain": [
       "['Entire home/apt', 'Private room', 'Shared room']"
      ]
     },
     "execution_count": 59,
     "metadata": {},
     "output_type": "execute_result"
    }
   ],
   "source": [
    "df_room = df[36:39]\n",
    "room_list = df_room.ix[:,0]\n",
    "room_value = df_room.ix[:,1]\n",
    "room_list = [f[10:] for f in room_list]\n",
    "room_value = [f for f in room_value]\n"
   ]
  },
  {
   "cell_type": "code",
   "execution_count": 60,
   "metadata": {
    "collapsed": false
   },
   "outputs": [],
   "source": [
    "file = open(\"../../html/js/predict_source.js\", \"w\")\n",
    "file.write(\"var group_list = \" + str(group_list) + \";\")\n",
    "file.write(\"var group_value = \" + str(group_value) + \";\")\n",
    "file.write(\"var property_list = \" + str(property_list) + \";\")\n",
    "file.write(\"var property_value = \" + str(property_value) + \";\")\n",
    "file.write(\"var room_list = \" + str(room_list) + \";\")\n",
    "file.write(\"var room_value = \" + str(room_value) + \";\")\n",
    "file.close()"
   ]
  },
  {
   "cell_type": "code",
   "execution_count": null,
   "metadata": {
    "collapsed": true
   },
   "outputs": [],
   "source": []
  }
 ],
 "metadata": {
  "kernelspec": {
   "display_name": "Python 3",
   "language": "python",
   "name": "python3"
  },
  "language_info": {
   "codemirror_mode": {
    "name": "ipython",
    "version": 3
   },
   "file_extension": ".py",
   "mimetype": "text/x-python",
   "name": "python",
   "nbconvert_exporter": "python",
   "pygments_lexer": "ipython3",
   "version": "3.6.0"
  }
 },
 "nbformat": 4,
 "nbformat_minor": 2
}
