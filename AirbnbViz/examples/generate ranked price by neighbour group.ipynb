{
 "cells": [
  {
   "cell_type": "code",
   "execution_count": 2,
   "metadata": {
    "collapsed": true
   },
   "outputs": [],
   "source": [
    "import pandas as pd\n",
    "data1 = pd.read_csv(\"listings.csv\")\n",
    "data2 = pd.read_csv(\"listings2.csv\")\n",
    "neighbourhood = data1['neighbourhood_group'].tolist()\n",
    "price = data1['price'].tolist()\n",
    "rating = data2['review_scores_rating'].tolist()\n",
    "\n",
    "# neighourhood name list\n",
    "name_list = [data1['neighbourhood_group'][0]]\n",
    "n = len(neighbourhood)\n",
    "for i in range(1,n):\n",
    "    if neighbourhood[i] != neighbourhood[i - 1]:\n",
    "        name_list.append(neighbourhood[i])\n",
    "\n",
    "# avg price, avg rating by neighbourhood\n",
    "price_list = data1.groupby(data1.neighbourhood_group).mean()['price']\n",
    "rating_list = data2.groupby(data1.neighbourhood_group).mean()['review_scores_rating']\n",
    "\n",
    "avg_price = []\n",
    "avg_rating = []\n",
    "\n",
    "d = len(name_list)\n",
    "for i in range(0,d):\n",
    "    price_target = price_list[name_list[i]]\n",
    "    rating_target = rating_list[name_list[i]]\n",
    "    avg_price.append(price_target)\n",
    "    avg_rating.append(rating_target)\n",
    "    \n",
    "ranked_price_list = price_list.sort_values(ascending = False)\n",
    "ranked_price_index = ranked_price_list.index.tolist()\n",
    "ranked_price_value = ranked_price_list.tolist()\n",
    "\n",
    "df = pd.DataFrame({'ranked_price_index' : ranked_price_index,'ranked_price' : ranked_price_value})\n",
    "df = df.to_json(orient='records')\n",
    "file = open(\"ranked_price_data_by_group.js\", \"w\")\n",
    "file.write( \"var ranked_price_data_by_group = \" + df);\n",
    "file.close()"
   ]
  },
  {
   "cell_type": "code",
   "execution_count": null,
   "metadata": {
    "collapsed": true
   },
   "outputs": [],
   "source": []
  }
 ],
 "metadata": {
  "kernelspec": {
   "display_name": "Python 3",
   "language": "python",
   "name": "python3"
  },
  "language_info": {
   "codemirror_mode": {
    "name": "ipython",
    "version": 3
   },
   "file_extension": ".py",
   "mimetype": "text/x-python",
   "name": "python",
   "nbconvert_exporter": "python",
   "pygments_lexer": "ipython3",
   "version": "3.6.0"
  }
 },
 "nbformat": 4,
 "nbformat_minor": 2
}
