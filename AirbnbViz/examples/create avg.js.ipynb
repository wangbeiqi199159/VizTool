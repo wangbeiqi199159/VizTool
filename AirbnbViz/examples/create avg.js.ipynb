{
 "cells": [
  {
   "cell_type": "code",
   "execution_count": 5,
   "metadata": {
    "collapsed": false
   },
   "outputs": [],
   "source": [
    "import pandas as pd\n",
    "data1 = pd.read_csv('listings.csv')\n",
    "data2 = pd.read_csv('listings2.csv')\n",
    "avg_price_by_neighbour = data1.groupby(data1['neighbourhood_group'])['price'].mean()\n",
    "data1['rating'] = data2['review_scores_rating']\n",
    "avg_rating_by_neighbour = data1.groupby(data1['neighbourhood_group'])['rating'].mean()"
   ]
  },
  {
   "cell_type": "code",
   "execution_count": 14,
   "metadata": {
    "collapsed": false
   },
   "outputs": [],
   "source": [
    "group_name = avg_rating_by_neighbour.index.tolist()\n",
    "avg_price_list = avg_price_by_neighbour.tolist()\n",
    "avg_rating_list = avg_rating_by_neighbour.tolist()"
   ]
  },
  {
   "cell_type": "code",
   "execution_count": 15,
   "metadata": {
    "collapsed": false
   },
   "outputs": [],
   "source": [
    "df = pd.DataFrame({'group_name' : group_name,'price' : avg_price_list, 'rating' : avg_rating_list})\n",
    "df = df.to_json(orient='records')"
   ]
  },
  {
   "cell_type": "code",
   "execution_count": 16,
   "metadata": {
    "collapsed": false
   },
   "outputs": [],
   "source": [
    "file = open(\"avg_by_neighbour.js\", \"w\")\n",
    "file.write( \"var data = \" + df);\n",
    "\n",
    "# Close opend file\n",
    "file.close()"
   ]
  },
  {
   "cell_type": "code",
   "execution_count": 36,
   "metadata": {
    "collapsed": false
   },
   "outputs": [
    {
     "data": {
      "text/plain": [
       "neighbourhood_group\n",
       "Ballard                104.206522\n",
       "Beacon Hill             29.173729\n",
       "Capitol Hill           118.981481\n",
       "Cascade                142.752809\n",
       "Central Area           113.346883\n",
       "Delridge                 0.696203\n",
       "Downtown               178.514151\n",
       "Interbay                66.818182\n",
       "Lake City               24.179104\n",
       "Magnolia               236.680328\n",
       "Northgate               13.875000\n",
       "Other neighborhoods     92.421285\n",
       "Queen Anne             185.559322\n",
       "Rainier Valley          22.248428\n",
       "Seward Park             63.693182\n",
       "University District     26.598361\n",
       "West Seattle           145.899015\n",
       "Name: price, dtype: float64"
      ]
     },
     "execution_count": 36,
     "metadata": {},
     "output_type": "execute_result"
    }
   ],
   "source": [
    "\n",
    "(avg_price_by_neighbour - 83)*2.5"
   ]
  },
  {
   "cell_type": "code",
   "execution_count": 37,
   "metadata": {
    "collapsed": false
   },
   "outputs": [
    {
     "data": {
      "text/plain": [
       "neighbourhood_group\n",
       "Ballard                124.682609\n",
       "Beacon Hill             94.669492\n",
       "Capitol Hill           130.592593\n",
       "Cascade                140.101124\n",
       "Central Area           128.338753\n",
       "Delridge                83.278481\n",
       "Downtown               154.405660\n",
       "Interbay               109.727273\n",
       "Lake City               92.671642\n",
       "Magnolia               177.672131\n",
       "Northgate               88.550000\n",
       "Other neighborhoods    119.968514\n",
       "Queen Anne             157.223729\n",
       "Rainier Valley          91.899371\n",
       "Seward Park            108.477273\n",
       "University District     93.639344\n",
       "West Seattle           141.359606\n",
       "Name: price, dtype: float64"
      ]
     },
     "execution_count": 37,
     "metadata": {},
     "output_type": "execute_result"
    }
   ],
   "source": [
    "avg_price_by_neighbour"
   ]
  },
  {
   "cell_type": "code",
   "execution_count": null,
   "metadata": {
    "collapsed": true
   },
   "outputs": [],
   "source": []
  }
 ],
 "metadata": {
  "kernelspec": {
   "display_name": "Python 3",
   "language": "python",
   "name": "python3"
  },
  "language_info": {
   "codemirror_mode": {
    "name": "ipython",
    "version": 3
   },
   "file_extension": ".py",
   "mimetype": "text/x-python",
   "name": "python",
   "nbconvert_exporter": "python",
   "pygments_lexer": "ipython3",
   "version": "3.6.0"
  }
 },
 "nbformat": 4,
 "nbformat_minor": 2
}
